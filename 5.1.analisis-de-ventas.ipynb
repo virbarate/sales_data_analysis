{
 "cells": [
  {
   "cell_type": "markdown",
   "id": "41154291-76ee-416d-8106-9d47c52b272f",
   "metadata": {
    "id": "41154291-76ee-416d-8106-9d47c52b272f"
   },
   "source": [
    "# Análisis de ventas\n",
    "\n",
    "Se facilita una lista de `dict` con datos reales de ventas con las siguientes keys:\n",
    "\n",
    "* 'Order ID'\n",
    "* 'Product'\n",
    "* 'Quantity Ordered'\n",
    "* 'Price Each\n",
    "* 'Order Date'\n",
    "* 'Purchase Address'\n",
    "\n",
    "y values de tipo `str` en todos los casos:"
   ]
  },
  {
   "cell_type": "code",
   "execution_count": 2,
   "id": "b5d05795-bd04-427e-b8f4-004b9b52f160",
   "metadata": {
    "colab": {
     "base_uri": "https://localhost:8080/",
     "height": 217
    },
    "executionInfo": {
     "elapsed": 326,
     "status": "error",
     "timestamp": 1649220122908,
     "user": {
      "displayName": "Bibiana Rivadeneira",
      "userId": "13403832355809551391"
     },
     "user_tz": 180
    },
    "id": "b5d05795-bd04-427e-b8f4-004b9b52f160",
    "outputId": "6388b6b0-328d-4037-e9d2-1fd1c6efd9cd"
   },
   "outputs": [],
   "source": [
    "import pickle\n",
    "\n",
    "with open('sales_data.pickle', 'rb') as handle:\n",
    "    sales_data = pickle.load(handle)"
   ]
  },
  {
   "cell_type": "code",
   "execution_count": 2,
   "id": "85741068-6422-47f5-9361-f8027efe0432",
   "metadata": {},
   "outputs": [
    {
     "data": {
      "text/plain": [
       "186850"
      ]
     },
     "execution_count": 2,
     "metadata": {},
     "output_type": "execute_result"
    }
   ],
   "source": [
    "len(sales_data)"
   ]
  },
  {
   "cell_type": "code",
   "execution_count": 3,
   "id": "bd39a5b1-28eb-471e-83a9-ab5f55b784bb",
   "metadata": {
    "id": "bd39a5b1-28eb-471e-83a9-ab5f55b784bb",
    "outputId": "47bf3a43-cdd8-422a-fee6-2333d50ee821"
   },
   "outputs": [
    {
     "data": {
      "text/plain": [
       "[{'Order ID': '209921',\n",
       "  'Product': 'USB-C Charging Cable',\n",
       "  'Quantity Ordered': '1',\n",
       "  'Price Each': '11.95',\n",
       "  'Order Date': '06/23/19 19:34',\n",
       "  'Purchase Address': '950 Walnut St, Portland, ME 04101'}]"
      ]
     },
     "execution_count": 3,
     "metadata": {},
     "output_type": "execute_result"
    }
   ],
   "source": [
    "sales_data[0:1]"
   ]
  },
  {
   "cell_type": "markdown",
   "id": "b556331d-f56f-4c57-b01f-9b2e9187d74a",
   "metadata": {},
   "source": [
    "- listas de diccionarios\n",
    "    - 1:1 relacion key:value\n",
    "    - 6 keys\n",
    "    - values son strings"
   ]
  },
  {
   "cell_type": "code",
   "execution_count": 15,
   "id": "bad84093-ec28-4986-aebc-638e0b8831b6",
   "metadata": {},
   "outputs": [
    {
     "data": {
      "text/plain": [
       "{'Order ID': '209921',\n",
       " 'Product': 'USB-C Charging Cable',\n",
       " 'Quantity Ordered': '1',\n",
       " 'Price Each': '11.95',\n",
       " 'Order Date': '06/23/19 19:34',\n",
       " 'Purchase Address': '950 Walnut St, Portland, ME 04101'}"
      ]
     },
     "execution_count": 15,
     "metadata": {},
     "output_type": "execute_result"
    }
   ],
   "source": [
    "first_dict = sales_data[0:5][0]\n",
    "\n",
    "first_dict"
   ]
  },
  {
   "cell_type": "code",
   "execution_count": null,
   "id": "95d59cb4-c8c7-45c6-abd4-b9df5556a7af",
   "metadata": {},
   "outputs": [],
   "source": [
    "order_id = int(first_dict['Order ID'])\n",
    "order_quantity = int(first_dict['Quantity Ordered'])\n",
    "product_price = float(first_dict['Price Each'])\n",
    "product_name = first_dict['Product']\n",
    "order_month_num = first_dict['Order Date'][:2]\n",
    "order_hour = first_dict['Order Date'][-5:-3]\n",
    "purchase_city = first_dict['Purchase Address'].split(', ')[1]"
   ]
  },
  {
   "cell_type": "code",
   "execution_count": null,
   "id": "a05cc465-9d0b-4b6a-9405-7c6916ef4869",
   "metadata": {},
   "outputs": [],
   "source": []
  },
  {
   "cell_type": "code",
   "execution_count": 8,
   "id": "b4e091dd-0a66-4dba-a9d5-10af09794ee4",
   "metadata": {},
   "outputs": [
    {
     "data": {
      "text/plain": [
       "12337.190000000004"
      ]
     },
     "execution_count": 8,
     "metadata": {},
     "output_type": "execute_result"
    }
   ],
   "source": [
    "#  total de ingresos\n",
    "\n",
    "order_total = []\n",
    "for order_details in sales_data[0:50]:\n",
    "    order_details_list = list(order_details.items())\n",
    "    order_total.append(float(order_details_list[3][1]))\n",
    "sum(order_total)\n"
   ]
  },
  {
   "cell_type": "code",
   "execution_count": null,
   "id": "8e7a573e-a54d-41e6-ab7d-1dc08311a457",
   "metadata": {},
   "outputs": [],
   "source": [
    "#  buscando los valores de quantity ordered\n",
    "\n",
    "check_values = {0}\n",
    "for order_details in sales_data:\n",
    "    check_values.add(order_details['Quantity Ordered'])\n",
    "check_values    \n"
   ]
  },
  {
   "cell_type": "code",
   "execution_count": 16,
   "id": "e7e47861-aef3-492e-b4b4-45f361447fc3",
   "metadata": {},
   "outputs": [
    {
     "ename": "NameError",
     "evalue": "name 'NaN' is not defined",
     "output_type": "error",
     "traceback": [
      "\u001b[1;31m---------------------------------------------------------------------------\u001b[0m",
      "\u001b[1;31mNameError\u001b[0m                                 Traceback (most recent call last)",
      "Input \u001b[1;32mIn [16]\u001b[0m, in \u001b[0;36m<cell line: 3>\u001b[1;34m()\u001b[0m\n\u001b[0;32m      1\u001b[0m \u001b[38;5;66;03m#  intento de borrar los nan\u001b[39;00m\n\u001b[0;32m      2\u001b[0m total_earnings_listed \u001b[38;5;241m=\u001b[39m []\n\u001b[1;32m----> 3\u001b[0m sales_data\u001b[38;5;241m.\u001b[39mindex({\u001b[38;5;124m'\u001b[39m\u001b[38;5;124mQuantity Ordered\u001b[39m\u001b[38;5;124m'\u001b[39m: \u001b[43mNaN\u001b[49m})\n",
      "\u001b[1;31mNameError\u001b[0m: name 'NaN' is not defined"
     ]
    }
   ],
   "source": [
    "#  intento de borrar los nan\n",
    "total_earnings_listed = []\n",
    "sales_data.index({'Quantity Ordered': NaN})\n"
   ]
  },
  {
   "cell_type": "code",
   "execution_count": null,
   "id": "4b7de2f5-a8c7-4240-90ae-b41cc76e807c",
   "metadata": {},
   "outputs": [],
   "source": [
    "\n",
    "for order_details in sales_data:\n",
    "    if 'nan' in order_details.values()\n",
    "        sales_data.remove(order_details)\n",
    "    else: \n",
    "        pass\n",
    "    product_price = order_details['Price Each']\n",
    "    product_quantity = order_details['Quantity Ordered']\n",
    "    order_earnings = float(product_price) * float(product_quantity)\n",
    "    total_earnings_listed.append(order_earnings)\n",
    "sum_total_earnings = sum(total_earnings_listed)\n",
    "sum_total_earnings"
   ]
  },
  {
   "cell_type": "code",
   "execution_count": 12,
   "id": "1afbcee8-f8a2-40a4-b1e1-87aebfabc201",
   "metadata": {},
   "outputs": [
    {
     "data": {
      "text/plain": [
       "[{'Order ID': nan,\n",
       "  'Product': nan,\n",
       "  'Quantity Ordered': nan,\n",
       "  'Price Each': nan,\n",
       "  'Order Date': nan,\n",
       "  'Purchase Address': nan}]"
      ]
     },
     "execution_count": 12,
     "metadata": {},
     "output_type": "execute_result"
    }
   ],
   "source": [
    "sales_data[3066:3067]"
   ]
  },
  {
   "cell_type": "code",
   "execution_count": null,
   "id": "702af7c5-495f-4458-8852-261eb28e1f94",
   "metadata": {},
   "outputs": [],
   "source": []
  },
  {
   "cell_type": "markdown",
   "id": "bd775d37-d9b6-457f-acf3-6cf561dbc27f",
   "metadata": {
    "id": "bd775d37-d9b6-457f-acf3-6cf561dbc27f"
   },
   "source": [
    "Responder los siguientes interrogantes de interés, para lo que se requiere:\n",
    "\n",
    "* Inspeccionar los datos\n",
    "* Formatearlos adecuadamente\n",
    "* Elegir y confeccionar nuevas estructuras de datos"
   ]
  },
  {
   "cell_type": "markdown",
   "id": "28bc9f3a-232b-4414-9b27-a4ec092c8d7a",
   "metadata": {
    "id": "9d7c9580-c873-4e53-aa64-5515982f9ee2"
   },
   "source": [
    "1) sumar ganancias por mes y encontrar el max valor y a cual mes corresponde\n",
    " - iterar suma de valor de producto de cada order y multiplicarla por el quantity ordered = \n",
    " - \n",
    "2) printear ese max valor en formato USD 0000.00\n",
    "3) sumar ganancias todos los meses y representar el % en formato xx.xx\n",
    "4) sumar ganancias por ciudad y encontrar el max valor y a cual ciudad corresponde\n",
    "5) sumar ganancias por ciudad y representar el % en formato xx.xx\n",
    "6) sumar ganancias por hora y encontrar los dos valores mas altos y a cuales horas corresponde\n",
    "7) productos que aparecen en la misma orden y la cantidad siempre es 2 c/u\n",
    "8) encontrar el producto que aparece mas veces\n",
    "9) encontrar valor de esos productos y relacionar sus precios\n",
    "10) cual numero de orden se repite mas y sumar sus productos"
   ]
  },
  {
   "cell_type": "markdown",
   "id": "65b001ce-12b7-4b6a-b5e0-f067307d5c3a",
   "metadata": {
    "id": "65b001ce-12b7-4b6a-b5e0-f067307d5c3a"
   },
   "source": [
    "**1)** ¿Cuál es el mes que reporta **la mayor cantidad de productos**? \n",
    "\n",
    "*Se espera*: `El mes de mayor venta es: {Enero/Febrero/Marzo/Abril...}` *(nótese que se debe printear el nombre del mes)*"
   ]
  },
  {
   "cell_type": "code",
   "execution_count": 3,
   "id": "3ec4c0a0-4aec-4756-bf25-0a4e79242293",
   "metadata": {
    "id": "3ec4c0a0-4aec-4756-bf25-0a4e79242293"
   },
   "outputs": [],
   "source": [
    "# Crear un diccionario sin tener que escribir cada mes\n",
    "sales_by_month = {}\n",
    "months = []\n",
    "\n",
    "for i in range(1,13):\n",
    "    if i >= 10:\n",
    "        months.append(str(i))\n",
    "    else:\n",
    "        months.append(f'0{str(i)}')\n",
    "    for k in months:\n",
    "        sales_by_month[k] = 0"
   ]
  },
  {
   "cell_type": "code",
   "execution_count": 12,
   "id": "a9674e0a-2ccd-4a5f-9b81-3919101e9cf0",
   "metadata": {},
   "outputs": [
    {
     "name": "stdout",
     "output_type": "stream",
     "text": [
      "{'01': 0, '02': 0, '03': 0, '04': 0, '05': 0, '06': 133688.39000000007, '07': 0, '08': 0, '09': 0, '10': 0, '11': 0, '12': 0}\n"
     ]
    }
   ],
   "source": [
    "# Agregar al diccionario sales_by_month el ingreso de cada orden\n",
    "for sales_details in sales_data[119:130]:\n",
    "    month = sales_details['Order Date'][:2] #  se podria definir month fuera del for?\n",
    "    order_quantity = int(sales_details['Quantity Ordered'])\n",
    "    product_price = float(sales_details['Price Each'])\n",
    "    sales_by_month[month] += order_quantity * product_price\n",
    "print(sales_by_month)\n",
    "\n",
    "#  entrontrar la key del diccionario que su value sea mayor a todos los values de todos los diccionarios\n",
    "    # como comparar valores de varios diccionarios\n",
    "        # dict.values() (iterable) entonces sirve un for para agregaralos de una lista para analizarlos\n",
    "        # max(lista con todos los valores) --- del paso anterior\n",
    "# print key y convertirlo a Mes \n",
    "    # como convertir un numero a mes \n",
    "        \n",
    "\n",
    "\n"
   ]
  },
  {
   "cell_type": "code",
   "execution_count": 11,
   "id": "3e4dde18-2d92-441b-95cc-4b553afabb1a",
   "metadata": {},
   "outputs": [
    {
     "data": {
      "text/plain": [
       "[{'Order ID': '300427',\n",
       "  'Product': 'LG Dryer',\n",
       "  'Quantity Ordered': '1',\n",
       "  'Price Each': '600.0',\n",
       "  'Order Date': '12/13/19 17:45',\n",
       "  'Purchase Address': '102 8th St, New York City, NY 10001'},\n",
       " {'Order ID': '300428',\n",
       "  'Product': 'AA Batteries (4-pack)',\n",
       "  'Quantity Ordered': '2',\n",
       "  'Price Each': '3.84',\n",
       "  'Order Date': '12/30/19 18:49',\n",
       "  'Purchase Address': '280 Willow St, Dallas, TX 75001'},\n",
       " {'Order ID': '300429',\n",
       "  'Product': 'USB-C Charging Cable',\n",
       "  'Quantity Ordered': '1',\n",
       "  'Price Each': '11.95',\n",
       "  'Order Date': '12/20/19 18:26',\n",
       "  'Purchase Address': '707 Jefferson St, New York City, NY 10001'}]"
      ]
     },
     "execution_count": 11,
     "metadata": {},
     "output_type": "execute_result"
    }
   ],
   "source": [
    "sales_data[18631:18634]"
   ]
  },
  {
   "cell_type": "markdown",
   "id": "111cd58e-7c14-437c-9a58-d269504d3dc6",
   "metadata": {
    "id": "111cd58e-7c14-437c-9a58-d269504d3dc6"
   },
   "source": [
    "**2)** ¿Qué ganancia reporta dicho mes?  \n",
    "*Se espera*: `En el mes de {Enero/Febrero/Marzo/Abril...} se reporta una ganancia total de USD{xxxx.xx}` *(nótese que el monto debe incluir DOS decimales)*"
   ]
  },
  {
   "cell_type": "code",
   "execution_count": null,
   "id": "2f53650d-dcdf-40e0-b102-0091b7e153ee",
   "metadata": {
    "id": "2f53650d-dcdf-40e0-b102-0091b7e153ee"
   },
   "outputs": [],
   "source": []
  },
  {
   "cell_type": "markdown",
   "id": "f3eaeae9-19b6-4512-ba98-94f79613d3a5",
   "metadata": {
    "id": "f3eaeae9-19b6-4512-ba98-94f79613d3a5"
   },
   "source": [
    "**3)** ¿Qué porcentaje del total de las ventas representa?  \n",
    "*Se espera*: `Las ventas en el mes de {Enero/Febrero/Marzo/Abril...} representan un xx.xx% del total de las ventas` *(nótese que el monto debe incluir DOS decimales)*"
   ]
  },
  {
   "cell_type": "code",
   "execution_count": null,
   "id": "6294a3f2-e381-479a-94a3-703282d429eb",
   "metadata": {
    "id": "6294a3f2-e381-479a-94a3-703282d429eb"
   },
   "outputs": [],
   "source": []
  },
  {
   "cell_type": "markdown",
   "id": "a123911e-0328-4600-9a7f-0753e79bbd6d",
   "metadata": {
    "id": "a123911e-0328-4600-9a7f-0753e79bbd6d"
   },
   "source": [
    "**4)** ¿Qué ciudad reportó la mayor cantidad de ventas?  \n",
    "*Se espera*: `La ciudad con mayor cantidad de ventas es {Dallas/Los Angeles/Boston...} reporta la mayor cantidad de ventas` *(nótese que se debe especificar la ciudad y no la dirección completa)*"
   ]
  },
  {
   "cell_type": "code",
   "execution_count": null,
   "id": "bef35c63-34ac-4113-b85b-98f218116560",
   "metadata": {
    "id": "bef35c63-34ac-4113-b85b-98f218116560"
   },
   "outputs": [],
   "source": []
  },
  {
   "cell_type": "markdown",
   "id": "7ff085be-3d8e-455b-a66b-c7e905f4c584",
   "metadata": {
    "id": "7ff085be-3d8e-455b-a66b-c7e905f4c584"
   },
   "source": [
    "**5)** ¿Qué porcentaje del total de las ventas representa?  \n",
    "*Se espera*: `Las ventas en {Dallas/Los Angeles/Boston...} representan un xx.xx% del total` *(nótese que se debe especificar la ciudad y no la dirección completa)*"
   ]
  },
  {
   "cell_type": "code",
   "execution_count": null,
   "id": "18ed8be8-2588-46b7-aaab-e78ca03c549e",
   "metadata": {
    "id": "18ed8be8-2588-46b7-aaab-e78ca03c549e"
   },
   "outputs": [],
   "source": []
  },
  {
   "cell_type": "markdown",
   "id": "a050f86b-2f8d-4473-94a2-29c52ff47a5f",
   "metadata": {
    "id": "a050f86b-2f8d-4473-94a2-29c52ff47a5f"
   },
   "source": [
    "**6)** ¿En qué horas del día se deberían publicar anuncios promocionales para maximizar las ventas?  \n",
    "*Se espera*: `Las horas del día en las que más ventas se registran son: {xx}hs y {yy}hs` *(nótese que se requieren horas del día, como \"10hs\" o \"20hs\")*"
   ]
  },
  {
   "cell_type": "code",
   "execution_count": null,
   "id": "d917acad-8db7-4725-ba74-a5ebd4af62fb",
   "metadata": {
    "id": "d917acad-8db7-4725-ba74-a5ebd4af62fb"
   },
   "outputs": [],
   "source": []
  },
  {
   "cell_type": "markdown",
   "id": "80af09de-5127-4d05-af12-717b72da09ab",
   "metadata": {
    "id": "80af09de-5127-4d05-af12-717b72da09ab"
   },
   "source": [
    "**7)** Determinar productos que se venden juntos y DE A DOS.  \n",
    "*Se espera*: `Los siguientes productos se venden juntos y de a dos: {x}-{y}, {yy}-{zz} ...`  \n",
    "**OBS**: Para una misma *orden* se pueden regitrar varios productos."
   ]
  },
  {
   "cell_type": "code",
   "execution_count": null,
   "id": "b2b1c6c9-5ce4-4285-bd55-675f47f930f9",
   "metadata": {
    "id": "b2b1c6c9-5ce4-4285-bd55-675f47f930f9"
   },
   "outputs": [],
   "source": []
  },
  {
   "cell_type": "markdown",
   "id": "b0ca1fe8-0635-43f8-af2b-cc93f65a0de9",
   "metadata": {
    "id": "b0ca1fe8-0635-43f8-af2b-cc93f65a0de9"
   },
   "source": [
    "**8)** ¿Cuál es el producto más vendido?\n",
    "*Se espera*: `El producto más vendido es {x}`"
   ]
  },
  {
   "cell_type": "code",
   "execution_count": null,
   "id": "95a83318-dd52-4db7-9c66-e079a59f5b57",
   "metadata": {
    "id": "95a83318-dd52-4db7-9c66-e079a59f5b57"
   },
   "outputs": [],
   "source": []
  },
  {
   "cell_type": "markdown",
   "id": "68b4e603-0b45-40df-8ae1-cf999dcd3cdc",
   "metadata": {
    "id": "68b4e603-0b45-40df-8ae1-cf999dcd3cdc"
   },
   "source": [
    "**9)** ¿Cuál es la relación entre el precio del producto más vendido y el del menos vendido?\n",
    "*Se espera:* `El precio del producto más vendido es {n} veces mayor/menor que el producto menos vendido`"
   ]
  },
  {
   "cell_type": "code",
   "execution_count": null,
   "id": "644db79a-3fbf-4802-b332-80a3b29f88f3",
   "metadata": {
    "id": "644db79a-3fbf-4802-b332-80a3b29f88f3"
   },
   "outputs": [],
   "source": []
  },
  {
   "cell_type": "markdown",
   "id": "acb2623e-cad1-46ed-a8ea-3ec0e650901e",
   "metadata": {
    "id": "acb2623e-cad1-46ed-a8ea-3ec0e650901e"
   },
   "source": [
    "**10)** ¿Cuál es la órden con mayor cantidad de productos?\n",
    "*Se espera*: `La órden con mayor cantidad de productos es la número {x}, con {y} productos en total`"
   ]
  },
  {
   "cell_type": "code",
   "execution_count": null,
   "id": "25df688f-02b5-4ba5-995c-8861aea7c43e",
   "metadata": {
    "id": "25df688f-02b5-4ba5-995c-8861aea7c43e"
   },
   "outputs": [],
   "source": []
  }
 ],
 "metadata": {
  "colab": {
   "name": "5.1.analisis-de-ventas.ipynb",
   "provenance": []
  },
  "kernelspec": {
   "display_name": "Python 3 (ipykernel)",
   "language": "python",
   "name": "python3"
  },
  "language_info": {
   "codemirror_mode": {
    "name": "ipython",
    "version": 3
   },
   "file_extension": ".py",
   "mimetype": "text/x-python",
   "name": "python",
   "nbconvert_exporter": "python",
   "pygments_lexer": "ipython3",
   "version": "3.9.7"
  }
 },
 "nbformat": 4,
 "nbformat_minor": 5
}
