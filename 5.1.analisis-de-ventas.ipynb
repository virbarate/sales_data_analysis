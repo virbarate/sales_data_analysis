{
 "cells": [
  {
   "cell_type": "markdown",
   "id": "41154291-76ee-416d-8106-9d47c52b272f",
   "metadata": {
    "id": "41154291-76ee-416d-8106-9d47c52b272f"
   },
   "source": [
    "# Análisis de ventas\n",
    "\n",
    "Se facilita una lista de `dict` con datos reales de ventas con las siguientes keys:\n",
    "\n",
    "* 'Order ID'\n",
    "* 'Product'\n",
    "* 'Quantity Ordered'\n",
    "* 'Price Each\n",
    "* 'Order Date'\n",
    "* 'Purchase Address'\n",
    "\n",
    "y values de tipo `str` en todos los casos:"
   ]
  },
  {
   "cell_type": "code",
   "execution_count": 7,
   "id": "b5d05795-bd04-427e-b8f4-004b9b52f160",
   "metadata": {
    "colab": {
     "base_uri": "https://localhost:8080/",
     "height": 217
    },
    "executionInfo": {
     "elapsed": 326,
     "status": "error",
     "timestamp": 1649220122908,
     "user": {
      "displayName": "Bibiana Rivadeneira",
      "userId": "13403832355809551391"
     },
     "user_tz": 180
    },
    "id": "b5d05795-bd04-427e-b8f4-004b9b52f160",
    "outputId": "6388b6b0-328d-4037-e9d2-1fd1c6efd9cd",
    "tags": []
   },
   "outputs": [],
   "source": [
    "import pickle\n",
    "\n",
    "with open('sales_data.pickle', 'rb') as handle:\n",
    "    sales_data = pickle.load(handle)"
   ]
  },
  {
   "cell_type": "code",
   "execution_count": 2,
   "id": "85741068-6422-47f5-9361-f8027efe0432",
   "metadata": {
    "tags": []
   },
   "outputs": [
    {
     "data": {
      "text/plain": [
       "186850"
      ]
     },
     "execution_count": 2,
     "metadata": {},
     "output_type": "execute_result"
    }
   ],
   "source": [
    "len(sales_data)"
   ]
  },
  {
   "cell_type": "code",
   "execution_count": 8,
   "id": "ca97313a-9580-4607-829b-f4b15b36313c",
   "metadata": {
    "tags": []
   },
   "outputs": [],
   "source": [
    "#  Find index of all dict with NaN, and remove said dict\n",
    "#  Find dict with key == value, and remove said dict\n",
    "import math\n",
    "for sales_dict in sales_data:\n",
    "    try:\n",
    "        if math.isnan(sales_dict['Product']):\n",
    "            i = sales_data.index(sales_dict)\n",
    "            sales_data.pop(i)\n",
    "        else:\n",
    "            continue\n",
    "    except:\n",
    "        TypeError\n",
    "        \n",
    "for sales_dict in sales_data:\n",
    "    if sales_dict['Product'] == 'Product':\n",
    "        i = sales_data.index(sales_dict)\n",
    "        sales_data.pop(i)\n",
    "    else:\n",
    "        continue"
   ]
  },
  {
   "cell_type": "markdown",
   "id": "bd775d37-d9b6-457f-acf3-6cf561dbc27f",
   "metadata": {
    "id": "bd775d37-d9b6-457f-acf3-6cf561dbc27f"
   },
   "source": [
    "Responder los siguientes interrogantes de interés, para lo que se requiere:\n",
    "\n",
    "* Inspeccionar los datos\n",
    "* Formatearlos adecuadamente\n",
    "* Elegir y confeccionar nuevas estructuras de datos"
   ]
  },
  {
   "cell_type": "markdown",
   "id": "65b001ce-12b7-4b6a-b5e0-f067307d5c3a",
   "metadata": {
    "id": "65b001ce-12b7-4b6a-b5e0-f067307d5c3a"
   },
   "source": [
    "**1)** ¿Cuál es el mes que reporta **la mayor cantidad de productos**? \n",
    "\n",
    "*Se espera*: `El mes de mayor venta es: {Enero/Febrero/Marzo/Abril...}` *(nótese que se debe printear el nombre del mes)*"
   ]
  },
  {
   "cell_type": "code",
   "execution_count": 30,
   "id": "3ec4c0a0-4aec-4756-bf25-0a4e79242293",
   "metadata": {
    "id": "3ec4c0a0-4aec-4756-bf25-0a4e79242293"
   },
   "outputs": [
    {
     "name": "stdout",
     "output_type": "stream",
     "text": [
      "The month with the most sales was December with 28114 products sold\n"
     ]
    }
   ],
   "source": [
    "# Automate the creation of a dict with months as keys\n",
    "import calendar\n",
    "sales_by_month = {}\n",
    "revenue_by_month = {}\n",
    "months = []\n",
    "\n",
    "for i in range(1,13):\n",
    "    if i >= 10:\n",
    "        months.append(str(i))\n",
    "    else:\n",
    "        months.append(f'0{str(i)}')\n",
    "    for k in months:\n",
    "        sales_by_month[k] = 0\n",
    "        revenue_by_month[k] = 0\n",
    "        \n",
    "# Adding to sales_by_month how many sales were reported in each order\n",
    "for sales_dict in sales_data:\n",
    "    month_str = sales_dict['Order Date'][:2]\n",
    "    ordered_quantity = int(sales_dict['Quantity Ordered'])\n",
    "    product_price = float(sales_dict['Price Each'])\n",
    "    order_revenue = ordered_quantity * product_price\n",
    "    sales_by_month[month_str] += ordered_quantity\n",
    "    revenue_by_month[month_str] += order_revenue\n",
    "    \n",
    "#  Finding the key for the dict with the most sales as values\n",
    "max_sale = max(list(sales_by_month.values()))\n",
    "\n",
    "for month, sales_total in sales_by_month.items():\n",
    "    if sales_total == max_sale:\n",
    "        print(f'The month with the most sales was {calendar.month_name[int(month)]} with {sales_total} products sold')\n",
    "    else:\n",
    "        continue"
   ]
  },
  {
   "cell_type": "markdown",
   "id": "111cd58e-7c14-437c-9a58-d269504d3dc6",
   "metadata": {
    "id": "111cd58e-7c14-437c-9a58-d269504d3dc6"
   },
   "source": [
    "**2)** ¿Qué ganancia reporta dicho mes?  \n",
    "*Se espera*: `En el mes de {Enero/Febrero/Marzo/Abril...} se reporta una ganancia total de USD{xxxx.xx}` *(nótese que el monto debe incluir DOS decimales)*"
   ]
  },
  {
   "cell_type": "code",
   "execution_count": 11,
   "id": "2f53650d-dcdf-40e0-b102-0091b7e153ee",
   "metadata": {
    "id": "2f53650d-dcdf-40e0-b102-0091b7e153ee"
   },
   "outputs": [
    {
     "name": "stdout",
     "output_type": "stream",
     "text": [
      "In the month of December there was a total revenue of USD 4613443.34 reported\n"
     ]
    }
   ],
   "source": [
    "for month, sales_total in sales_by_month.items():\n",
    "    if sales_total == max_sale:\n",
    "        revenue = revenue_by_month[month]\n",
    "        print(\n",
    "f'In the month of {calendar.month_name[int(month)]} there was a total revenue of USD {round(revenue,2)} reported'\n",
    "        )\n",
    "    else:\n",
    "        continue"
   ]
  },
  {
   "cell_type": "markdown",
   "id": "f3eaeae9-19b6-4512-ba98-94f79613d3a5",
   "metadata": {
    "id": "f3eaeae9-19b6-4512-ba98-94f79613d3a5"
   },
   "source": [
    "**3)** ¿Qué porcentaje del total de las ventas representa?  \n",
    "*Se espera*: `Las ventas en el mes de {Enero/Febrero/Marzo/Abril...} representan un xx.xx% del total de las ventas` *(nótese que el monto debe incluir DOS decimales)*"
   ]
  },
  {
   "cell_type": "code",
   "execution_count": 33,
   "id": "6294a3f2-e381-479a-94a3-703282d429eb",
   "metadata": {
    "id": "6294a3f2-e381-479a-94a3-703282d429eb"
   },
   "outputs": [
    {
     "name": "stdout",
     "output_type": "stream",
     "text": [
      "The sales in December represent a 13.45% from total sales\n"
     ]
    }
   ],
   "source": [
    "total_sales = sum(list(sales_by_month.values()))\n",
    "\n",
    "for month, sales_total in sales_by_month.items():\n",
    "    if sales_total == max_sale:\n",
    "        print(f'The sales in {calendar.month_name[int(month)]} represent a {round(sales_total *100 / total_sales, 2)}% from total sales')\n",
    "    else:\n",
    "        continue"
   ]
  },
  {
   "cell_type": "markdown",
   "id": "a123911e-0328-4600-9a7f-0753e79bbd6d",
   "metadata": {
    "id": "a123911e-0328-4600-9a7f-0753e79bbd6d"
   },
   "source": [
    "**4)** ¿Qué ciudad reportó la mayor cantidad de ventas?  \n",
    "*Se espera*: `La ciudad con mayor cantidad de ventas es {Dallas/Los Angeles/Boston...} reporta la mayor cantidad de ventas` *(nótese que se debe especificar la ciudad y no la dirección completa)*"
   ]
  },
  {
   "cell_type": "code",
   "execution_count": 34,
   "id": "ce9d5677-bca0-4629-b545-1f3c00da9e08",
   "metadata": {},
   "outputs": [
    {
     "name": "stdout",
     "output_type": "stream",
     "text": [
      "Los Angeles reported the most amount of sales\n"
     ]
    }
   ],
   "source": [
    "sales_by_city = {}\n",
    "\n",
    "for sales_dict in sales_data:\n",
    "    address_list = sales_dict['Purchase Address'].split(', ')\n",
    "    city_name = address_list[1]\n",
    "    ordered_quantity = int(sales_dict['Quantity Ordered'])\n",
    "    product_price = float(sales_dict['Price Each'])\n",
    "    order_revenue = ordered_quantity * product_price\n",
    "    sales_by_city[city_name] = order_revenue\n",
    "\n",
    "city_max_sales = max(list(sales_by_city.values()))\n",
    "\n",
    "for city, sales_total in sales_by_city.items():\n",
    "    if sales_total == city_max_sales:\n",
    "        best_city = city\n",
    "        print(f'{best_city} reported the most amount of sales')\n",
    "        \n",
    "    else:\n",
    "        continue"
   ]
  },
  {
   "cell_type": "markdown",
   "id": "7ff085be-3d8e-455b-a66b-c7e905f4c584",
   "metadata": {
    "id": "7ff085be-3d8e-455b-a66b-c7e905f4c584"
   },
   "source": [
    "**5)** ¿Qué porcentaje del total de las ventas representa?  \n",
    "*Se espera*: `Las ventas en {Dallas/Los Angeles/Boston...} representan un xx.xx% del total` *(nótese que se debe especificar la ciudad y no la dirección completa)*"
   ]
  },
  {
   "cell_type": "code",
   "execution_count": 35,
   "id": "18ed8be8-2588-46b7-aaab-e78ca03c549e",
   "metadata": {
    "id": "18ed8be8-2588-46b7-aaab-e78ca03c549e"
   },
   "outputs": [
    {
     "name": "stdout",
     "output_type": "stream",
     "text": [
      "The sales from Los Angeles represent a 48.87% from the total sales\n"
     ]
    }
   ],
   "source": [
    "city_total_sales = sum(list(sales_by_city.values()))\n",
    "print(f'The sales from {best_city} represent a {round(city_max_sales * 100 / city_total_sales,2)}% from the total sales')"
   ]
  },
  {
   "cell_type": "markdown",
   "id": "a050f86b-2f8d-4473-94a2-29c52ff47a5f",
   "metadata": {
    "id": "a050f86b-2f8d-4473-94a2-29c52ff47a5f"
   },
   "source": [
    "**6)** ¿En qué horas del día se deberían publicar anuncios promocionales para maximizar las ventas?  \n",
    "*Se espera*: `Las horas del día en las que más ventas se registran son: {xx}hs y {yy}hs` *(nótese que se requieren horas del día, como \"10hs\" o \"20hs\")*"
   ]
  },
  {
   "cell_type": "code",
   "execution_count": null,
   "id": "d917acad-8db7-4725-ba74-a5ebd4af62fb",
   "metadata": {
    "id": "d917acad-8db7-4725-ba74-a5ebd4af62fb"
   },
   "outputs": [],
   "source": [
    "hour_list = []\n",
    "sales_per_hour = {}\n",
    "\n",
    "# suma de ocurrencias de cada hora\n",
    "\n",
    "for sales_details in sales_data:\n",
    "    hour = sales_details['Order Date'][-5:-3]\n",
    "    hour_list.append(hour)\n",
    "     \n",
    "for hour in hour_list:\n",
    "    occurrence = hour_list.count(hour)\n",
    "    sales_per_hour[occurrence] = hour\n",
    "\n",
    "max1 = max(sales_per_hour.keys())\n",
    "max2 = 0\n",
    "\n",
    "for k in sales_per_hour.keys():\n",
    "    if k>max2 and k<max1:\n",
    "        max2 = k\n",
    "    else:\n",
    "        continue\n",
    "print(f'Las horas del día en las que más ventas se registran son: {max1}hs y {max2}hs')"
   ]
  },
  {
   "cell_type": "markdown",
   "id": "80af09de-5127-4d05-af12-717b72da09ab",
   "metadata": {
    "id": "80af09de-5127-4d05-af12-717b72da09ab"
   },
   "source": [
    "**7)** Determinar productos que se venden juntos y DE A DOS.  \n",
    "*Se espera*: `Los siguientes productos se venden juntos y de a dos: {x}-{y}, {yy}-{zz} ...`  \n",
    "**OBS**: Para una misma *orden* se pueden regitrar varios productos."
   ]
  },
  {
   "cell_type": "code",
   "execution_count": null,
   "id": "b2b1c6c9-5ce4-4285-bd55-675f47f930f9",
   "metadata": {
    "id": "b2b1c6c9-5ce4-4285-bd55-675f47f930f9"
   },
   "outputs": [],
   "source": [
    " "
   ]
  },
  {
   "cell_type": "markdown",
   "id": "b0ca1fe8-0635-43f8-af2b-cc93f65a0de9",
   "metadata": {
    "id": "b0ca1fe8-0635-43f8-af2b-cc93f65a0de9"
   },
   "source": [
    "**8)** ¿Cuál es el producto más vendido?\n",
    "*Se espera*: `El producto más vendido es {x}`"
   ]
  },
  {
   "cell_type": "code",
   "execution_count": 28,
   "id": "95a83318-dd52-4db7-9c66-e079a59f5b57",
   "metadata": {
    "id": "95a83318-dd52-4db7-9c66-e079a59f5b57"
   },
   "outputs": [
    {
     "name": "stdout",
     "output_type": "stream",
     "text": [
      "The most sold product is 27in FHD Monitor\n"
     ]
    }
   ],
   "source": [
    "sales_by_product = {}\n",
    "\n",
    "\n",
    "for sales_dict in sales_data:\n",
    "    product_name = sales_dict['Product']\n",
    "    ordered_quantity = int(sales_dict['Quantity Ordered'])\n",
    "    sales_by_product.update({product_name : ordered_quantity})\n",
    "\n",
    "most_sold_value = max(list(sales_by_product.values()))\n",
    "\n",
    "for product, sales_total in sales_by_product.items():\n",
    "    if sales_total == most_sold_value:\n",
    "        print(f'The most sold product is {product}')\n",
    "    else:\n",
    "        continue\n"
   ]
  },
  {
   "cell_type": "markdown",
   "id": "68b4e603-0b45-40df-8ae1-cf999dcd3cdc",
   "metadata": {
    "id": "68b4e603-0b45-40df-8ae1-cf999dcd3cdc"
   },
   "source": [
    "**9)** ¿Cuál es la relación entre el precio del producto más vendido y el del menos vendido?\n",
    "*Se espera:* `El precio del producto más vendido es {n} veces mayor/menor que el producto menos vendido`"
   ]
  },
  {
   "cell_type": "code",
   "execution_count": null,
   "id": "644db79a-3fbf-4802-b332-80a3b29f88f3",
   "metadata": {
    "id": "644db79a-3fbf-4802-b332-80a3b29f88f3"
   },
   "outputs": [],
   "source": []
  },
  {
   "cell_type": "markdown",
   "id": "acb2623e-cad1-46ed-a8ea-3ec0e650901e",
   "metadata": {
    "id": "acb2623e-cad1-46ed-a8ea-3ec0e650901e"
   },
   "source": [
    "**10)** ¿Cuál es la órden con mayor cantidad de productos?\n",
    "*Se espera*: `La órden con mayor cantidad de productos es la número {x}, con {y} productos en total`"
   ]
  },
  {
   "cell_type": "code",
   "execution_count": null,
   "id": "25df688f-02b5-4ba5-995c-8861aea7c43e",
   "metadata": {
    "id": "25df688f-02b5-4ba5-995c-8861aea7c43e"
   },
   "outputs": [],
   "source": []
  }
 ],
 "metadata": {
  "colab": {
   "name": "5.1.analisis-de-ventas.ipynb",
   "provenance": []
  },
  "kernelspec": {
   "display_name": "Python 3 (ipykernel)",
   "language": "python",
   "name": "python3"
  },
  "language_info": {
   "codemirror_mode": {
    "name": "ipython",
    "version": 3
   },
   "file_extension": ".py",
   "mimetype": "text/x-python",
   "name": "python",
   "nbconvert_exporter": "python",
   "pygments_lexer": "ipython3",
   "version": "3.9.7"
  }
 },
 "nbformat": 4,
 "nbformat_minor": 5
}
